{
 "cells": [
  {
   "cell_type": "code",
   "execution_count": 5,
   "id": "37d9eae4",
   "metadata": {},
   "outputs": [],
   "source": [
    "import pandas as pd\n",
    "import numpy as np"
   ]
  },
  {
   "cell_type": "code",
   "execution_count": 6,
   "id": "92ceef3a",
   "metadata": {},
   "outputs": [],
   "source": [
    "df =  pd.read_csv(\"A:\\\\Aniket_Scidentai\\\\MLOPS\\\\nyc_taxi_duration\\\\data\\\\raw\\\\nyc_taxi.csv\")"
   ]
  },
  {
   "cell_type": "code",
   "execution_count": 19,
   "id": "70a1a303",
   "metadata": {},
   "outputs": [],
   "source": [
    "df['id'] = df['id'].str.replace('id', '', regex=False)\n",
    "df['id'] = df['id'].astype(int)"
   ]
  },
  {
   "cell_type": "code",
   "execution_count": 21,
   "id": "96f3e7d6",
   "metadata": {},
   "outputs": [
    {
     "data": {
      "text/plain": [
       "id                    1458644\n",
       "vendor_id                   2\n",
       "pickup_datetime       1380222\n",
       "dropoff_datetime      1380377\n",
       "passenger_count            10\n",
       "pickup_longitude        23047\n",
       "pickup_latitude         45245\n",
       "dropoff_longitude       33821\n",
       "dropoff_latitude        62519\n",
       "store_and_fwd_flag          2\n",
       "trip_duration            7417\n",
       "dtype: int64"
      ]
     },
     "execution_count": 21,
     "metadata": {},
     "output_type": "execute_result"
    }
   ],
   "source": [
    "df.nunique()"
   ]
  },
  {
   "cell_type": "code",
   "execution_count": 22,
   "id": "019fd2b3",
   "metadata": {},
   "outputs": [
    {
     "data": {
      "text/plain": [
       "id                      int32\n",
       "vendor_id               int64\n",
       "pickup_datetime        object\n",
       "dropoff_datetime       object\n",
       "passenger_count         int64\n",
       "pickup_longitude      float64\n",
       "pickup_latitude       float64\n",
       "dropoff_longitude     float64\n",
       "dropoff_latitude      float64\n",
       "store_and_fwd_flag     object\n",
       "trip_duration           int64\n",
       "dtype: object"
      ]
     },
     "execution_count": 22,
     "metadata": {},
     "output_type": "execute_result"
    }
   ],
   "source": [
    "df.dtypes"
   ]
  },
  {
   "cell_type": "code",
   "execution_count": 23,
   "id": "fed300fa",
   "metadata": {},
   "outputs": [
    {
     "name": "stdout",
     "output_type": "stream",
     "text": [
      "Minimum time taken: 0.02 minutes\n",
      "Maximum time taken: 58771.37 minutes\n"
     ]
    }
   ],
   "source": [
    "# Convert to datetime\n",
    "df['pickup_datetime'] = pd.to_datetime(df['pickup_datetime'])\n",
    "df['dropoff_datetime'] = pd.to_datetime(df['dropoff_datetime'])\n",
    "\n",
    "df[\"Trip_Time\"] = (df['dropoff_datetime'] - df['pickup_datetime']).dt.total_seconds() / 60\n",
    "\n",
    "# Get min and max duration\n",
    "min_duration = ((df['dropoff_datetime'] - df['pickup_datetime']).dt.total_seconds() / 60).min()\n",
    "max_duration = ((df['dropoff_datetime'] - df['pickup_datetime']).dt.total_seconds() / 60).max()\n",
    "\n",
    "print(f\"Minimum time taken: {min_duration:.2f} minutes\")\n",
    "print(f\"Maximum time taken: {max_duration:.2f} minutes\")"
   ]
  },
  {
   "cell_type": "code",
   "execution_count": 24,
   "id": "1ac821b3",
   "metadata": {},
   "outputs": [],
   "source": [
    "def haversine_np(lat1, lon1, lat2, lon2):\n",
    "    \"\"\"\n",
    "    Vectorized Haversine formula to compute distances between two sets of GPS coordinates.\n",
    "    Returns distance in kilometers.\n",
    "    \"\"\"\n",
    "    R = 6371  # Earth radius in kilometers\n",
    "\n",
    "    # Convert degrees to radians\n",
    "    lat1_rad, lon1_rad = np.radians(lat1), np.radians(lon1)\n",
    "    lat2_rad, lon2_rad = np.radians(lat2), np.radians(lon2)\n",
    "\n",
    "    dlat = lat2_rad - lat1_rad\n",
    "    dlon = lon2_rad - lon1_rad\n",
    "\n",
    "    a = np.sin(dlat / 2.0)**2 + np.cos(lat1_rad) * np.cos(lat2_rad) * np.sin(dlon / 2.0)**2\n",
    "    c = 2 * np.arcsin(np.sqrt(a))\n",
    "\n",
    "    return R * c\n",
    "\n",
    "# Apply it to your dataframe\n",
    "df['trip_distance_km'] = haversine_np(\n",
    "    df['pickup_latitude'],\n",
    "    df['pickup_longitude'],\n",
    "    df['dropoff_latitude'],\n",
    "    df['dropoff_longitude']\n",
    ")"
   ]
  },
  {
   "cell_type": "code",
   "execution_count": 26,
   "id": "f2579d7c",
   "metadata": {},
   "outputs": [],
   "source": [
    "df.drop(columns={\"pickup_datetime\",\"dropoff_datetime\",\"pickup_longitude\",\"pickup_latitude\",\"dropoff_longitude\",\"dropoff_latitude\"}, inplace=True)"
   ]
  },
  {
   "cell_type": "code",
   "execution_count": 29,
   "id": "1cbcdc7f",
   "metadata": {},
   "outputs": [],
   "source": [
    "df[\"store_and_fwd_flag\"] = df[\"store_and_fwd_flag\"].map({\"N\": 1, \"Y\": 2})"
   ]
  },
  {
   "cell_type": "code",
   "execution_count": 41,
   "id": "fcab8e00",
   "metadata": {},
   "outputs": [
    {
     "data": {
      "text/html": [
       "<div>\n",
       "<style scoped>\n",
       "    .dataframe tbody tr th:only-of-type {\n",
       "        vertical-align: middle;\n",
       "    }\n",
       "\n",
       "    .dataframe tbody tr th {\n",
       "        vertical-align: top;\n",
       "    }\n",
       "\n",
       "    .dataframe thead th {\n",
       "        text-align: right;\n",
       "    }\n",
       "</style>\n",
       "<table border=\"1\" class=\"dataframe\">\n",
       "  <thead>\n",
       "    <tr style=\"text-align: right;\">\n",
       "      <th></th>\n",
       "      <th>id</th>\n",
       "      <th>vendor_id</th>\n",
       "      <th>passenger_count</th>\n",
       "      <th>store_and_fwd_flag</th>\n",
       "      <th>trip_duration</th>\n",
       "      <th>Trip_Time</th>\n",
       "      <th>trip_distance_km</th>\n",
       "    </tr>\n",
       "  </thead>\n",
       "  <tbody>\n",
       "    <tr>\n",
       "      <th>11000</th>\n",
       "      <td>950935</td>\n",
       "      <td>2</td>\n",
       "      <td>6</td>\n",
       "      <td>1</td>\n",
       "      <td>278</td>\n",
       "      <td>4.633333</td>\n",
       "      <td>1.237442</td>\n",
       "    </tr>\n",
       "    <tr>\n",
       "      <th>11001</th>\n",
       "      <td>147649</td>\n",
       "      <td>1</td>\n",
       "      <td>1</td>\n",
       "      <td>1</td>\n",
       "      <td>580</td>\n",
       "      <td>9.666667</td>\n",
       "      <td>1.428097</td>\n",
       "    </tr>\n",
       "    <tr>\n",
       "      <th>11002</th>\n",
       "      <td>2924355</td>\n",
       "      <td>2</td>\n",
       "      <td>6</td>\n",
       "      <td>1</td>\n",
       "      <td>818</td>\n",
       "      <td>13.633333</td>\n",
       "      <td>1.548223</td>\n",
       "    </tr>\n",
       "    <tr>\n",
       "      <th>11003</th>\n",
       "      <td>691025</td>\n",
       "      <td>2</td>\n",
       "      <td>1</td>\n",
       "      <td>1</td>\n",
       "      <td>600</td>\n",
       "      <td>10.000000</td>\n",
       "      <td>2.163305</td>\n",
       "    </tr>\n",
       "    <tr>\n",
       "      <th>11004</th>\n",
       "      <td>558910</td>\n",
       "      <td>2</td>\n",
       "      <td>1</td>\n",
       "      <td>1</td>\n",
       "      <td>1414</td>\n",
       "      <td>23.566667</td>\n",
       "      <td>10.874940</td>\n",
       "    </tr>\n",
       "    <tr>\n",
       "      <th>11005</th>\n",
       "      <td>506858</td>\n",
       "      <td>2</td>\n",
       "      <td>1</td>\n",
       "      <td>1</td>\n",
       "      <td>289</td>\n",
       "      <td>4.816667</td>\n",
       "      <td>1.572867</td>\n",
       "    </tr>\n",
       "    <tr>\n",
       "      <th>11006</th>\n",
       "      <td>1234195</td>\n",
       "      <td>2</td>\n",
       "      <td>1</td>\n",
       "      <td>1</td>\n",
       "      <td>212</td>\n",
       "      <td>3.533333</td>\n",
       "      <td>0.659290</td>\n",
       "    </tr>\n",
       "    <tr>\n",
       "      <th>11007</th>\n",
       "      <td>3894107</td>\n",
       "      <td>2</td>\n",
       "      <td>1</td>\n",
       "      <td>1</td>\n",
       "      <td>916</td>\n",
       "      <td>15.266667</td>\n",
       "      <td>6.699726</td>\n",
       "    </tr>\n",
       "    <tr>\n",
       "      <th>11008</th>\n",
       "      <td>1770794</td>\n",
       "      <td>2</td>\n",
       "      <td>1</td>\n",
       "      <td>1</td>\n",
       "      <td>884</td>\n",
       "      <td>14.733333</td>\n",
       "      <td>5.428386</td>\n",
       "    </tr>\n",
       "    <tr>\n",
       "      <th>11009</th>\n",
       "      <td>3013263</td>\n",
       "      <td>2</td>\n",
       "      <td>1</td>\n",
       "      <td>1</td>\n",
       "      <td>431</td>\n",
       "      <td>7.183333</td>\n",
       "      <td>2.129318</td>\n",
       "    </tr>\n",
       "  </tbody>\n",
       "</table>\n",
       "</div>"
      ],
      "text/plain": [
       "            id  vendor_id  passenger_count  store_and_fwd_flag  trip_duration  \\\n",
       "11000   950935          2                6                   1            278   \n",
       "11001   147649          1                1                   1            580   \n",
       "11002  2924355          2                6                   1            818   \n",
       "11003   691025          2                1                   1            600   \n",
       "11004   558910          2                1                   1           1414   \n",
       "11005   506858          2                1                   1            289   \n",
       "11006  1234195          2                1                   1            212   \n",
       "11007  3894107          2                1                   1            916   \n",
       "11008  1770794          2                1                   1            884   \n",
       "11009  3013263          2                1                   1            431   \n",
       "\n",
       "       Trip_Time  trip_distance_km  \n",
       "11000   4.633333          1.237442  \n",
       "11001   9.666667          1.428097  \n",
       "11002  13.633333          1.548223  \n",
       "11003  10.000000          2.163305  \n",
       "11004  23.566667         10.874940  \n",
       "11005   4.816667          1.572867  \n",
       "11006   3.533333          0.659290  \n",
       "11007  15.266667          6.699726  \n",
       "11008  14.733333          5.428386  \n",
       "11009   7.183333          2.129318  "
      ]
     },
     "execution_count": 41,
     "metadata": {},
     "output_type": "execute_result"
    }
   ],
   "source": [
    "df[11000:11010]"
   ]
  },
  {
   "cell_type": "code",
   "execution_count": 38,
   "id": "af63ab98",
   "metadata": {},
   "outputs": [
    {
     "data": {
      "text/plain": [
       "id                    1458644\n",
       "vendor_id                   2\n",
       "passenger_count            10\n",
       "store_and_fwd_flag          2\n",
       "trip_duration            7417\n",
       "Trip_Time                7417\n",
       "trip_distance_km      1452288\n",
       "dtype: int64"
      ]
     },
     "execution_count": 38,
     "metadata": {},
     "output_type": "execute_result"
    }
   ],
   "source": [
    "df.nunique()"
   ]
  },
  {
   "cell_type": "code",
   "execution_count": null,
   "id": "a987c481",
   "metadata": {},
   "outputs": [],
   "source": []
  }
 ],
 "metadata": {
  "kernelspec": {
   "display_name": "cc",
   "language": "python",
   "name": "python3"
  },
  "language_info": {
   "codemirror_mode": {
    "name": "ipython",
    "version": 3
   },
   "file_extension": ".py",
   "mimetype": "text/x-python",
   "name": "python",
   "nbconvert_exporter": "python",
   "pygments_lexer": "ipython3",
   "version": "3.9.12"
  }
 },
 "nbformat": 4,
 "nbformat_minor": 5
}
